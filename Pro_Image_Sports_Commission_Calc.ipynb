{
  "nbformat": 4,
  "nbformat_minor": 0,
  "metadata": {
    "colab": {
      "provenance": [],
      "include_colab_link": true
    },
    "kernelspec": {
      "name": "python3",
      "display_name": "Python 3"
    },
    "language_info": {
      "name": "python"
    }
  },
  "cells": [
    {
      "cell_type": "markdown",
      "metadata": {
        "id": "view-in-github",
        "colab_type": "text"
      },
      "source": [
        "<a href=\"https://colab.research.google.com/github/Oliver-Shariff/Pro-Image-Sports-ETL-Scripts/blob/main/Pro_Image_Sports_Commission_Calc.ipynb\" target=\"_parent\"><img src=\"https://colab.research.google.com/assets/colab-badge.svg\" alt=\"Open In Colab\"/></a>"
      ]
    },
    {
      "cell_type": "code",
      "source": [
        "#Commission Calc\n",
        "\"\"\"\n",
        "By employee\n",
        "$1 per jersey w/ a gross selling price >= 108\n",
        "$2 per embroidery\n",
        "10% of profit from Memrobillia sales (subtotal - cost)* .1\n",
        "\"\"\""
      ],
      "metadata": {
        "id": "t6abLfWOzXNR"
      },
      "execution_count": null,
      "outputs": []
    },
    {
      "cell_type": "code",
      "execution_count": null,
      "metadata": {
        "id": "14IjmF6Ty9ab"
      },
      "outputs": [],
      "source": [
        "from google.colab import files\n",
        "import pandas as pd\n",
        "\n",
        "mem_commission_rate = .1 # 10% of profit"
      ]
    },
    {
      "cell_type": "markdown",
      "source": [],
      "metadata": {
        "id": "vF7nMdJ6zQUS"
      }
    },
    {
      "cell_type": "code",
      "source": [
        "# Load the XLSX File\n",
        "uploaded = files.upload()\n",
        "file_path = list(uploaded.keys())[0]"
      ],
      "metadata": {
        "id": "Nxr1eD1zzSO9"
      },
      "execution_count": null,
      "outputs": []
    },
    {
      "cell_type": "code",
      "source": [
        "# Read file and keep necessary columns\n",
        "df = pd.read_excel(file_path,skiprows=5)\n",
        "df = df[['Employee','Category', 'Selling price, $','Quantity','Tax, $', 'Gross sales, $','Discount, $', 'Cost, $']]\n",
        "#print(df)"
      ],
      "metadata": {
        "id": "fyIWisWx3XAN"
      },
      "execution_count": null,
      "outputs": []
    },
    {
      "cell_type": "code",
      "metadata": {
        "id": "0b15c96e"
      },
      "source": [
        "# Remove clearance jerseys (Replica) from calculation\n",
        "df = df[~((df['Category'] == 'REPLICA') & ((df['Gross sales, $'] - df['Tax, $']) < 99.99))]\n",
        "\n",
        "#display(df)"
      ],
      "execution_count": null,
      "outputs": []
    },
    {
      "cell_type": "code",
      "metadata": {
        "id": "4408526d"
      },
      "source": [
        "# Remove all categories that don't recieve\n",
        "df = df[df['Category'].isin(['HAT EMBROIDERY', 'MEMORABILIA/PRINTS', 'REPLICA'])]\n",
        "#display(df)"
      ],
      "execution_count": null,
      "outputs": []
    },
    {
      "cell_type": "code",
      "source": [
        "# Calculate comission made on Memorbillia/prints (10% of profit)\n",
        "df['Mem_Comission'] = (df['Gross sales, $'] - df['Tax, $']- (df['Cost, $']*df['Quantity']))*mem_commission_rate\n",
        "#display(df)"
      ],
      "metadata": {
        "id": "lYD7OFoJ94vg"
      },
      "execution_count": null,
      "outputs": []
    },
    {
      "cell_type": "code",
      "metadata": {
        "id": "8a4bece9"
      },
      "source": [
        "# Calculate total quantity for REPLICA (Jerseys) by employee\n",
        "replica_qty = df[df['Category'] == 'REPLICA'].groupby('Employee')['Quantity'].sum().reset_index()\n",
        "replica_qty.rename(columns={'Quantity': 'Total QTY Replica'}, inplace=True)\n",
        "\n",
        "# Calculate total quantity for HAT EMBROIDERY by employee\n",
        "embroidery_qty = df[df['Category'] == 'HAT EMBROIDERY'].groupby('Employee')['Quantity'].sum().reset_index()\n",
        "embroidery_qty.rename(columns={'Quantity': 'Total QTY Embroidery'}, inplace=True)\n",
        "\n",
        "# Calculate sum of Mem_Comission for MEMORABILIA/PRINTS by employee\n",
        "mem_commission_sum = df[df['Category'] == 'MEMORABILIA/PRINTS'].groupby('Employee')['Mem_Comission'].sum().reset_index()\n",
        "mem_commission_sum.rename(columns={'Mem_Comission': 'SUM Mem_Comission'}, inplace=True)\n",
        "\n",
        "# Merge the dataframes\n",
        "employee_summary = replica_qty.merge(embroidery_qty, on='Employee', how='outer').merge(mem_commission_sum, on='Employee', how='outer')\n",
        "\n",
        "# Fill NaN values with 0\n",
        "employee_summary.fillna(0, inplace=True)\n",
        "\n",
        "# Add the 'TOTAL' column, $1 for jerseys, $2 for emboridery, and sum of mem_comission\n",
        "employee_summary['TOTAL'] = ((employee_summary['Total QTY Replica']) + (employee_summary['Total QTY Embroidery']*2) + employee_summary['SUM Mem_Comission']).round(2)\n",
        "\n",
        "\n",
        "display(employee_summary)"
      ],
      "execution_count": null,
      "outputs": []
    }
  ]
}