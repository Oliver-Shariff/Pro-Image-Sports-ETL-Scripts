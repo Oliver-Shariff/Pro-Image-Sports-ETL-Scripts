{
  "nbformat": 4,
  "nbformat_minor": 0,
  "metadata": {
    "colab": {
      "provenance": [],
      "include_colab_link": true
    },
    "kernelspec": {
      "name": "python3",
      "display_name": "Python 3"
    },
    "language_info": {
      "name": "python"
    }
  },
  "cells": [
    {
      "cell_type": "markdown",
      "metadata": {
        "id": "view-in-github",
        "colab_type": "text"
      },
      "source": [
        "<a href=\"https://colab.research.google.com/github/Oliver-Shariff/Pro-Image-Sports-ETL-Scripts/blob/main/Pro_Image_Sports_Deposit_Calc.ipynb\" target=\"_parent\"><img src=\"https://colab.research.google.com/assets/colab-badge.svg\" alt=\"Open In Colab\"/></a>"
      ]
    },
    {
      "cell_type": "code",
      "source": [
        "from google.colab import files\n",
        "from datetime import datetime\n",
        "import pandas as pd"
      ],
      "metadata": {
        "id": "ncYIwl1SXjHR"
      },
      "execution_count": null,
      "outputs": []
    },
    {
      "cell_type": "code",
      "source": [
        "# Load the XLSX File\n",
        "uploaded = files.upload()\n",
        "file_path = list(uploaded.keys())[0]"
      ],
      "metadata": {
        "id": "LnCvSL69YKe5"
      },
      "execution_count": null,
      "outputs": []
    },
    {
      "cell_type": "code",
      "metadata": {
        "id": "8efb2d6e"
      },
      "source": [
        "# Read file\n",
        "temp_df = pd.read_excel(file_path, skiprows=2)\n",
        "\n",
        "# Calculate drawer_entry_sum from the loaded data\n",
        "# Select the 'Error ($)' column, convert to string, filter for values starting with '$' or '-$'\n",
        "dollar_values_str = temp_df['Error ($)'].astype(str)[temp_df['Error ($)'].astype(str).str.startswith(('$', '-$'), na=False)]\n",
        "\n",
        "# Remove the '$' sign and convert to numeric\n",
        "dollar_values_numeric = pd.to_numeric(dollar_values_str.str.replace('$', '', regex=False), errors='coerce')\n",
        "\n",
        "# Calculate the sum and store in drawer_entry_sum\n",
        "drawer_entry_sum = dollar_values_numeric.sum()\n",
        "\n",
        "print(f\"Sum of drawer entries starting with '$' or '-$': {drawer_entry_sum:.2f}\")\n",
        "\n",
        "\n",
        "# Process the main DataFrame from the loaded data\n",
        "\n",
        "# Filter rows: keep rows where the first column starts with \"P\"\n",
        "# This removes extraneous rows caused by cash drawer operations\n",
        "df = temp_df[temp_df.iloc[:, 0].astype(str).str.startswith('P', na=False)].copy() # Use .copy() to avoid SettingWithCopyWarning\n",
        "\n",
        "\n",
        "# Rename columns for clarity\n",
        "df = df.rename(columns={\n",
        "    \"Unnamed: 7\": \"Start cash ($)\",\n",
        "    \"Unnamed: 9\": \"Error ($)\",\n",
        "    \"Unnamed: 10\": \"Amt. left in drawer ($)\",\n",
        "    \"Unnamed: 11\": \"Amt. to deposit ($)\",\n",
        "    \"Unnamed: 4\": \"Closed By\",\n",
        "    \"Unnamed: 5\": \"Closed on\",\n",
        "    \"Unnamed: 3\": \"Opened on\",\n",
        "    \"Unnamed: 2\": \"Opened By\"\n",
        "\n",
        "})\n",
        "\n",
        "\n",
        "# Keep relevant numeric columns\n",
        "df = df[[\"Closed By\", \"Closed on\", \"Opened on\", \"Opened By\", \"Start cash ($)\", \"Amt. left in drawer ($)\", \"Error ($)\", \"Amt. to deposit ($)\"]]\n",
        "\n",
        "# Convert numeric columns to numeric type\n",
        "numeric_cols = [\"Start cash ($)\", \"Amt. left in drawer ($)\", \"Error ($)\", \"Amt. to deposit ($)\"]\n",
        "for col in numeric_cols:\n",
        "    df[col] = pd.to_numeric(df[col], errors='coerce')\n",
        "\n",
        "\n",
        "print(\"\\n=== Main DataFrame (cleaned) ===\")\n",
        "print(df)"
      ],
      "execution_count": null,
      "outputs": []
    },
    {
      "cell_type": "code",
      "source": [
        "# Get cash sales for this period from Sales By Payment method report\n",
        "# Enter this number manually in 0.00 format: no \"$\" or \",\"\n",
        "# EX: 9726.59\n",
        "# Remember to filter payment method to cash and to not include ongoing cash sales if midday\n",
        "# https://my.franpos.com/SalesByPaymentTypeReport\n",
        "\n",
        "user_input_str = input(\"Enter Cash Sales for this period: \")\n",
        "\n",
        "# Convert the input string to a float\n",
        "try:\n",
        "    cash_sales = float(user_input_str)\n",
        "    print(f\"Converted to float: {cash_sales}\")\n",
        "except ValueError:\n",
        "    print(\"Invalid input. Please enter a valid number for Cash Sales. Do not include commas or dollar signs\")\n",
        "    cash_sales = None # Assign None or handle the error as needed"
      ],
      "metadata": {
        "id": "tN_IKCIdfyQZ"
      },
      "execution_count": null,
      "outputs": []
    },
    {
      "cell_type": "code",
      "source": [
        "# Calculate stable_drawer\n",
        "# This accounts for differences in drawer values over the reporting period\n",
        "\n",
        "# Get the 'Start cash ($)' of the last row\n",
        "last_row_start_cash = df.iloc[-1][\"Start cash ($)\"]\n",
        "\n",
        "# Get the 'Amt. left in drawer ($)' and 'Start cash ($)' of the first row\n",
        "first_row_amt_left = df.iloc[0][\"Amt. left in drawer ($)\"]\n",
        "first_row_start_cash = df.iloc[0][\"Start cash ($)\"]\n",
        "\n",
        "# Determine the value to use from the first row\n",
        "if pd.isna(first_row_amt_left):\n",
        "    first_row_value = first_row_start_cash\n",
        "elif (first_row_amt_left == 0):\n",
        "    first_row_value = first_row_start_cash\n",
        "else:\n",
        "    first_row_value = first_row_amt_left\n",
        "\n",
        "# Calculate the difference\n",
        "stable_drawer = last_row_start_cash - first_row_value\n",
        "print(f\"Stable drawer difference: {stable_drawer:.2f}\")"
      ],
      "metadata": {
        "id": "2tVngvRJoBEy"
      },
      "execution_count": null,
      "outputs": []
    },
    {
      "cell_type": "code",
      "source": [
        "# Calculate Missing cash\n",
        "df[\"Next day Start cash ($)\"] = df[\"Start cash ($)\"].shift(1)\n",
        "df[\"Missing cash\"] = (df[\"Amt. left in drawer ($)\"] - df[\"Next day Start cash ($)\"]).round(2)\n",
        "\n",
        "# Calculate total expected deposit  vs total actual deposit\n",
        "\n",
        "# Remove Summary row if it was already created on a previous execution\n",
        "df = df[df[\"Closed By\"] != \"Cash sales\"]\n",
        "\n",
        "total_deposit = df[\"Amt. to deposit ($)\"].sum().round(2)\n",
        "total_cash_sales = cash_sales\n",
        "\n",
        "# Calculate the expected deposit\n",
        "expected_deposit = total_cash_sales + drawer_entry_sum + stable_drawer\n",
        "\n",
        "# Create a new row for the total deposit\n",
        "# Create a dictionary representing the new row\n",
        "Summary_row = {\n",
        "    \"Closed By\": \"Cash sales\",\n",
        "    \"Closed on\": total_cash_sales,\n",
        "    \"Opened on\": \"drawer entries\",\n",
        "    \"Opened By\": drawer_entry_sum,\n",
        "    \"Start cash ($)\": \"expected deposit\",\n",
        "    \"Amt. left in drawer ($)\": expected_deposit,\n",
        "    \"Error ($)\": \"Total Deposits\",\n",
        "    \"Amt. to deposit ($)\": total_deposit,\n",
        "    \"Next day Start cash ($)\": \"Discrepancy\",\n",
        "    \"Missing cash\": expected_deposit - total_deposit\n",
        "}\n",
        "\n",
        "# Convert the dictionary to a DataFrame\n",
        "Summary_df = pd.DataFrame([Summary_row])\n",
        "\n",
        "# Concatenate the original DataFrame and the Summary row DataFrame\n",
        "df = pd.concat([df, Summary_df], ignore_index=True)\n",
        "\n",
        "\n",
        "# Output results\n",
        "print( df[df[\"Closed By\"] == \"Cash sales\"])"
      ],
      "metadata": {
        "id": "jK61uegZKGQG"
      },
      "execution_count": null,
      "outputs": []
    },
    {
      "cell_type": "code",
      "metadata": {
        "id": "134ed5cf"
      },
      "source": [
        "\n",
        "# Export the result to a CSV file\n",
        "\n",
        "# Get current date and time and format it\n",
        "now = datetime.now()\n",
        "timestamp = now.strftime(\"%m-%d-%Y_%I-%M %p\")\n",
        "\n",
        "# append timestamp to filename\n",
        "output_filename = f\"Cleaned_close_day_report_{timestamp}.csv\"\n",
        "df.to_csv(output_filename, index=False)\n",
        "\n",
        "print(f\"DataFrame successfully exported to '{output_filename}'\")\n",
        "\n",
        "# Download the file\n",
        "files.download(output_filename)"
      ],
      "execution_count": null,
      "outputs": []
    }
  ]
}